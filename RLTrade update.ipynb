{
  "cells": [
    {
      "cell_type": "code",
      "execution_count": null,
      "metadata": {
        "colab": {
          "base_uri": "https://localhost:8080/"
        },
        "id": "xxfKvpPMpJkV",
        "outputId": "20ae41f6-7ddc-4541-a3ff-2977c83f2a30"
      },
      "outputs": [
        {
          "output_type": "stream",
          "name": "stdout",
          "text": [
            "Mounted at /content/drive\n"
          ]
        }
      ],
      "source": [
        "from google.colab import drive\n",
        "# Mydrive 사용\n",
        "drive.mount('/content/drive')\n"
      ]
    },
    {
      "cell_type": "code",
      "execution_count": null,
      "metadata": {
        "id": "cNRLIEKUpqmD",
        "colab": {
          "base_uri": "https://localhost:8080/"
        },
        "outputId": "24c91085-8a82-4d16-e1c3-4154b25e624f"
      },
      "outputs": [
        {
          "output_type": "stream",
          "name": "stdout",
          "text": [
            "Collecting mplfinance\n",
            "  Downloading mplfinance-0.12.9b7-py3-none-any.whl (73 kB)\n",
            "\u001b[?25l     \u001b[90m━━━━━━━━━━━━━━━━━━━━━━━━━━━━━━━━━━━━━━━━\u001b[0m \u001b[32m0.0/73.1 kB\u001b[0m \u001b[31m?\u001b[0m eta \u001b[36m-:--:--\u001b[0m\r\u001b[2K     \u001b[91m━━━━━━━━━━━━━━━━━━━━━━━━━━━━━━━━━━━━━━━\u001b[0m\u001b[90m╺\u001b[0m \u001b[32m71.7/73.1 kB\u001b[0m \u001b[31m2.4 MB/s\u001b[0m eta \u001b[36m0:00:01\u001b[0m\r\u001b[2K     \u001b[90m━━━━━━━━━━━━━━━━━━━━━━━━━━━━━━━━━━━━━━━━\u001b[0m \u001b[32m73.1/73.1 kB\u001b[0m \u001b[31m1.9 MB/s\u001b[0m eta \u001b[36m0:00:00\u001b[0m\n",
            "\u001b[?25hRequirement already satisfied: matplotlib in /usr/local/lib/python3.10/dist-packages (from mplfinance) (3.7.1)\n",
            "Requirement already satisfied: pandas in /usr/local/lib/python3.10/dist-packages (from mplfinance) (1.5.3)\n",
            "Requirement already satisfied: contourpy>=1.0.1 in /usr/local/lib/python3.10/dist-packages (from matplotlib->mplfinance) (1.1.0)\n",
            "Requirement already satisfied: cycler>=0.10 in /usr/local/lib/python3.10/dist-packages (from matplotlib->mplfinance) (0.11.0)\n",
            "Requirement already satisfied: fonttools>=4.22.0 in /usr/local/lib/python3.10/dist-packages (from matplotlib->mplfinance) (4.41.1)\n",
            "Requirement already satisfied: kiwisolver>=1.0.1 in /usr/local/lib/python3.10/dist-packages (from matplotlib->mplfinance) (1.4.4)\n",
            "Requirement already satisfied: numpy>=1.20 in /usr/local/lib/python3.10/dist-packages (from matplotlib->mplfinance) (1.22.4)\n",
            "Requirement already satisfied: packaging>=20.0 in /usr/local/lib/python3.10/dist-packages (from matplotlib->mplfinance) (23.1)\n",
            "Requirement already satisfied: pillow>=6.2.0 in /usr/local/lib/python3.10/dist-packages (from matplotlib->mplfinance) (9.4.0)\n",
            "Requirement already satisfied: pyparsing>=2.3.1 in /usr/local/lib/python3.10/dist-packages (from matplotlib->mplfinance) (3.1.0)\n",
            "Requirement already satisfied: python-dateutil>=2.7 in /usr/local/lib/python3.10/dist-packages (from matplotlib->mplfinance) (2.8.2)\n",
            "Requirement already satisfied: pytz>=2020.1 in /usr/local/lib/python3.10/dist-packages (from pandas->mplfinance) (2022.7.1)\n",
            "Requirement already satisfied: six>=1.5 in /usr/local/lib/python3.10/dist-packages (from python-dateutil>=2.7->matplotlib->mplfinance) (1.16.0)\n",
            "Installing collected packages: mplfinance\n",
            "Successfully installed mplfinance-0.12.9b7\n"
          ]
        }
      ],
      "source": [
        "!pip install mplfinance"
      ]
    },
    {
      "cell_type": "code",
      "execution_count": null,
      "metadata": {
        "id": "mH69nngvpY_A"
      },
      "outputs": [],
      "source": [
        "import locale\n",
        "import os\n",
        "import platform\n",
        "\n",
        "# 경로 이동\n",
        "os.chdir('/content/drive/MyDrive/rltrader-master/src/quantylab')"
      ]
    },
    {
      "cell_type": "code",
      "execution_count": null,
      "metadata": {
        "id": "fBgahPRETiac"
      },
      "outputs": [],
      "source": [
        "import sys\n",
        "import logging\n",
        "import argparse\n",
        "import json\n",
        "import rltrader\n",
        "from rltrader import settings\n"
      ]
    },
    {
      "cell_type": "code",
      "execution_count": null,
      "metadata": {
        "id": "MgRJ2yGWjYq_"
      },
      "outputs": [],
      "source": [
        "# 한번더 경로 바꾸기중요\n",
        "os.chdir('/content/drive/MyDrive/rltrader-master/src')\n",
        "import tensorflow as tf"
      ]
    },
    {
      "cell_type": "code",
      "execution_count": null,
      "metadata": {
        "id": "y0c6SU9pfPJo"
      },
      "outputs": [],
      "source": [
        "!python main.py --mode train --ver v3 --name 031440 --stock_code 031440 --rl_method a3c --net cnn --start_date 202301020900 --end_date 202301061520"
      ]
    },
    {
      "cell_type": "code",
      "source": [
        "import subprocess\n",
        "from datetime import datetime, timedelta\n",
        "\n",
        "# 업데이트\n",
        "def run_update_with_date_range(start_date, end_date):\n",
        "    cmd = f\"python main.py --mode update --ver v3 --name 031440 --stock_code 031440 --rl_method a3c --net cnn --start_date {start_date} --end_date {end_date}\"\n",
        "    subprocess.run(cmd, shell=True)\n",
        "\n",
        "# 시작일과 마지막 날짜 일주일로 설정\n",
        "start_date = datetime(2021, 6, 28, 9, 0, 1)\n",
        "end_date = datetime(2021, 7, 2, 15, 20, 0)\n",
        "\n",
        "# 일주일 씩 2년 업데이트 진행\n",
        "for _ in range(104):\n",
        "    run_update_with_date_range(start_date.strftime(\"%Y%m%d%H%M\"), end_date.strftime(\"%Y%m%d%H%M\"))\n",
        "    start_date += timedelta(days=7)\n",
        "    end_date += timedelta(days=7)"
      ],
      "metadata": {
        "id": "5NVlECRo-gve"
      },
      "execution_count": null,
      "outputs": []
    }
  ],
  "metadata": {
    "accelerator": "GPU",
    "colab": {
      "machine_shape": "hm",
      "provenance": []
    },
    "kernelspec": {
      "display_name": "Python 3",
      "name": "python3"
    },
    "language_info": {
      "name": "python"
    }
  },
  "nbformat": 4,
  "nbformat_minor": 0
}